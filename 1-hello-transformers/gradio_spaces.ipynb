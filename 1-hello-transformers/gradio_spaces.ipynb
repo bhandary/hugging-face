{
  "cells": [
    {
      "cell_type": "markdown",
      "metadata": {
        "id": "NkJmA-r5L0EB"
      },
      "source": [
        "# Tutorial: Build and Host Machine Learning Demos with Gradio ⚡ & Hugging Face 🤗"
      ]
    },
    {
      "cell_type": "markdown",
      "metadata": {
        "id": "D_Iv1CJZPekG"
      },
      "source": [
        "**Learning goals:** The goal of this tutorial is to learn How To\n",
        "\n",
        "1. Build a quick demo for your machine learning model in Python using the `gradio` library\n",
        "2. Host the demos for free with Hugging Face Spaces\n",
        "3. Add your demo to your Hugging Face org"
      ]
    },
    {
      "cell_type": "markdown",
      "metadata": {
        "id": "PR9faV2NWTrG"
      },
      "source": [
        "## Why Demos?\n",
        "\n",
        "**Demos** of machine learning models are an increasingly important part of machine learning _courses_ and _conferences_. Demos allow:\n",
        "\n",
        "* model developers to easily **present** their work to a wide audience\n",
        "* increase **reproducibility** of machine learning research\n",
        "* diverse users to more easily **identify and debug** failure points of models\n",
        "\n",
        "\n",
        "As a quick example of what we would like to build, check out the [Keras Org on Hugging Face](https://huggingface.co/keras-io), which includes a description card and a collection of Models and Spaces built by Keras community. Any Space can be opened in your browser and you can use the model immediately, as shown here:\n",
        "\n",
        "![](https://i.ibb.co/7y6DGjB/ezgif-5-cc52b7e590.gif)\n",
        "\n",
        "\n"
      ]
    },
    {
      "cell_type": "markdown",
      "metadata": {
        "id": "g0KzbU4lQtv3"
      },
      "source": [
        "## 1. Build Quick ML Demos in Python Using the Gradio Library"
      ]
    },
    {
      "cell_type": "markdown",
      "metadata": {
        "id": "rlSs72oUQ1VW"
      },
      "source": [
        "`gradio` is a handy Python library that lets you build web demos simply by specifying the list of input and output **components** expected by your machine learning model.\n",
        "\n",
        "What do I mean by input and output components? Gradio comes with a bunch of predefined components for different kinds of machine learning models. Here are some examples:\n",
        "\n",
        "* For an **image classifier**, the expected input type is an `Image` and the output type is a `Label`.\n",
        "* For a **speech recognition model**, the expected input component is an `Microphone` (which lets users record from the browser) or `Audio` (which lets users drag-and-drop audio files), while the output type is `Text`.\n",
        "* For a **question answering model**, we expect **2 inputs**: [`Text`, `Text`], one textbox for the paragraph and one for the question, and the output type is a single `Text` corresponding to the answer.\n",
        "\n",
        "You get the idea... (for all of the supported components, [see the docs](https://gradio.app/docs/))\n",
        "\n",
        "In addition to the input and output types, Gradio expects a third parameter, which is the prediction function itself. This parameter can be ***any* regular Python function** that takes in parameter(s) corresponding to the input component(s) and returns value(s) corresponding to the output component(s)\n",
        "\n",
        "Enough words. Let's see some code!"
      ]
    },
    {
      "cell_type": "code",
      "execution_count": null,
      "metadata": {
        "id": "p0MkPbbZbSiP"
      },
      "outputs": [],
      "source": [
        "# First, install Gradio\n",
        "!pip install --quiet gradio"
      ]
    },
    {
      "cell_type": "code",
      "execution_count": null,
      "metadata": {
        "id": "SjTxhry8bWS7"
      },
      "outputs": [],
      "source": [
        "import numpy as np\n",
        "\n",
        "def sepia(image):\n",
        "    sepia_filter = np.array(\n",
        "        [[0.393, 0.769, 0.189],\n",
        "         [0.349, 0.686, 0.168],\n",
        "         [0.272, 0.534, 0.131]]\n",
        "    )\n",
        "    sepia_img = image.dot(sepia_filter.T)\n",
        "    sepia_img /= sepia_img.max()\n",
        "    return sepia_img"
      ]
    },
    {
      "cell_type": "code",
      "execution_count": null,
      "metadata": {
        "id": "OgqlIG2DbrJq"
      },
      "outputs": [],
      "source": [
        "import gradio as gr\n",
        "\n",
        "# Write 1 line of Python to create a simple GUI\n",
        "gr.Interface(fn=sepia, inputs=\"image\", outputs=\"image\").launch();"
      ]
    },
    {
      "cell_type": "markdown",
      "metadata": {
        "id": "0TyTGpSsb7bs"
      },
      "source": [
        "Running the code above should produce a simple GUI inside this notebook allowing you to type example inputs and see the output returned by your function.\n",
        "\n",
        "Notice that we define an `Interface` using the 3 ingredients mentioned earlier:\n",
        "* A function\n",
        "* Input component(s)\n",
        "* Output component(s)\n",
        "\n",
        "This is a simple example for images, but the same principle holds true for any other kind of data type. For example, here is an interface that generates a musical tone when provided a few different parameters (the specific code inside `generate_tone()` is not important for the purpose of this tutorial):"
      ]
    },
    {
      "cell_type": "code",
      "execution_count": null,
      "metadata": {
        "id": "cHiZAO6ub6kA"
      },
      "outputs": [],
      "source": [
        "import numpy as np\n",
        "import gradio as gr\n",
        "\n",
        "def generate_tone(note, octave, duration):\n",
        "    sampling_rate = 48000\n",
        "    a4_freq, tones_from_a4 = 440, 12 * (octave - 4) + (note - 9)\n",
        "    frequency = a4_freq * 2 ** (tones_from_a4 / 12)\n",
        "    audio = np.linspace(0, int(duration), int(duration) * sampling_rate)\n",
        "    audio = (20000 * np.sin(audio * (2 * np.pi * frequency))).astype(np.int16)\n",
        "    return sampling_rate, audio\n",
        "\n",
        "gr.Interface(\n",
        "    generate_tone,\n",
        "    [\n",
        "        gr.Dropdown([\"C\", \"C#\", \"D\", \"D#\", \"E\", \"F\", \"F#\", \"G\", \"G#\", \"A\", \"A#\", \"B\"], type=\"index\"),\n",
        "        gr.Slider(4, 6, step=1),\n",
        "        gr.Number(value=1, label=\"Duration in seconds\"),\n",
        "    ],\n",
        "    \"audio\",\n",
        "    title=\"Generate a Musical Tone!\"\n",
        ").launch()"
      ]
    },
    {
      "cell_type": "markdown",
      "metadata": {
        "id": "23gD280-w-kT"
      },
      "source": [
        "**Challenge #1**: build a Gradio demo that takes in an image and returns the same image *flipped upside down* in less than 10 lines of Python code."
      ]
    },
    {
      "cell_type": "markdown",
      "metadata": {
        "id": "DSE6TZF5e9Oz"
      },
      "source": [
        "There are a lot more examples you can try in Gradio's [getting started page](https://gradio.app/getting_started/), which cover additional features such as:\n",
        "* Adding example inputs\n",
        "* Adding _state_ (e.g. for chatbots)\n",
        "* Sharing demos easily using one parameter called `share` (<-- this is pretty cool 😎)\n",
        "\n",
        "It is especially easy to demo a `transformers` model from Hugging Face's Model Hub, using the special `gr.Interface.load` method.\n",
        "\n",
        "Let's try a text-to-speech model built by Facebook:"
      ]
    },
    {
      "cell_type": "code",
      "execution_count": null,
      "metadata": {
        "id": "gcvQm5r29Xsx"
      },
      "outputs": [],
      "source": [
        "import gradio as gr\n",
        "\n",
        "gr.Interface.load(\"huggingface/facebook/fastspeech2-en-ljspeech\").launch();"
      ]
    },
    {
      "cell_type": "markdown",
      "metadata": {
        "id": "zt_oupBk9Xsy"
      },
      "source": [
        "Here is the code to build a demo for [GPT-J](https://huggingface.co/EleutherAI/gpt-j-6B), a large language model & add a couple of examples inputs:"
      ]
    },
    {
      "cell_type": "code",
      "execution_count": null,
      "metadata": {
        "id": "N_Cobhx8e8v9"
      },
      "outputs": [],
      "source": [
        "import gradio as gr\n",
        "\n",
        "examples = [[\"The Moon's orbit around Earth has\"], [\"There once was a pineapple\"]]\n",
        "\n",
        "gr.Interface.load(\"huggingface/EleutherAI/gpt-j-6B\", examples=examples).launch();"
      ]
    },
    {
      "cell_type": "code",
      "source": [
        "!pip install transformers"
      ],
      "metadata": {
        "id": "f9f533BeuBNa"
      },
      "execution_count": null,
      "outputs": []
    },
    {
      "cell_type": "code",
      "source": [
        "from transformers import pipeline\n",
        "\n",
        "generator = pipeline(\"text-generation\")"
      ],
      "metadata": {
        "id": "1HgggBXJuDmM"
      },
      "execution_count": null,
      "outputs": []
    },
    {
      "cell_type": "code",
      "source": [
        "generator(\"Hello world, my name is\")[0]['generated_text']"
      ],
      "metadata": {
        "id": "MpJ2efujuVW7"
      },
      "execution_count": null,
      "outputs": []
    },
    {
      "cell_type": "code",
      "source": [
        "import gradio as gr\n",
        "\n",
        "def generate_text(text):\n",
        "  return generator(text)[0]['generated_text']\n",
        "\n",
        "\n",
        "# Write 1 line of Python to create a simple GUI\n",
        "gr.Interface(fn=generate_text, inputs=\"text\", outputs=\"text\").launch();"
      ],
      "metadata": {
        "id": "EIlI85X1uL--"
      },
      "execution_count": null,
      "outputs": []
    },
    {
      "cell_type": "markdown",
      "metadata": {
        "id": "EoUYf0rYksA9"
      },
      "source": [
        "# Challenge! Create your own Space\n",
        "\n",
        "**Challenge #2**: Go to the [Hugging Face Model Hub](https://huggingface.co/models), and pick a model that performs one of the other tasks supported in the `transformers` library (other than the two you just saw: text generation or text-to-speech). Create a Gradio demo for that model using `gr.Interface.load`\n",
        "\n",
        "OR, if you're feeling adventurous... create a Gradio demo using the `pipeline` function from `transformers`..."
      ]
    },
    {
      "cell_type": "code",
      "source": [
        "# Write your code in this cell!\n",
        "\n",
        "# 1. Find a model on https://hf.co/models?library=transformers&sort=downloads\n",
        "\n",
        "# 2. Decide on what inputs and outputs you'll need\n",
        "\n",
        "# 3. Create a Gradio app for the model! (How will you load and use the model?)\n",
        "\n",
        "import gradio as gr\n",
        "\n",
        "def fill_image(image):\n",
        "  return image[\"image\"]\n",
        "\n",
        "gr.Interface(\n",
        "    fn=fill_image,\n",
        "    inputs=[\n",
        "        gr.Image(tool=\"sketch\")\n",
        "    ],\n",
        "    outputs=\"image\"\n",
        ").launch()"
      ],
      "metadata": {
        "id": "kDHz-vGtEn4c"
      },
      "execution_count": null,
      "outputs": []
    },
    {
      "cell_type": "markdown",
      "metadata": {
        "id": "b6Ek7cORgDkQ"
      },
      "source": [
        "## Host the Demo (for free) on Hugging Face Spaces\n",
        "\n",
        "Once you made a Gradio demo, you can host it permanently on Hugging Spaces very easily:\n",
        "\n",
        "Here are the steps to that (shown in the GIF below):\n",
        "\n",
        "A. First, create a Hugging Face account if you do not already have one, by visiting https://huggingface.co/ and clicking \"Sign Up\"\n",
        "\n",
        "B. Once you are logged in, click on your profile picture and then click on \"New Space\" underneath it to get to this page: https://huggingface.co/new-space\n",
        "\n",
        "C. Give your Space a name and a license. Select \"Gradio\" as the Space SDK, and then choose \"Public\" if you are fine with everyone accessing your Space and the underlying code\n",
        "\n",
        "D. Then you will find a page that provides you instructions on how to upload your files into the Git repository for that Space. You may also need to add a `requirements.txt` file to specify any Python package dependencies.\n",
        "\n",
        "E. Once you have pushed your files, that's it! Spaces will automatically build your Gradio demo allowing you to share it with anyone, anywhere!\n",
        "\n",
        "![GIF](https://huggingface.co/blog/assets/28_gradio-spaces/spaces-demo-finalized.gif)\n",
        "\n",
        "\n",
        "\n"
      ]
    }
  ],
  "metadata": {
    "colab": {
      "provenance": []
    },
    "kernelspec": {
      "display_name": "Python 3",
      "language": "python",
      "name": "python3"
    },
    "language_info": {
      "codemirror_mode": {
        "name": "ipython",
        "version": 3
      },
      "file_extension": ".py",
      "mimetype": "text/x-python",
      "name": "python",
      "nbconvert_exporter": "python",
      "pygments_lexer": "ipython3",
      "version": "3.9.5"
    }
  },
  "nbformat": 4,
  "nbformat_minor": 0
}