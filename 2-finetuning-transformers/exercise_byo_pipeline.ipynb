{
  "nbformat": 4,
  "nbformat_minor": 0,
  "metadata": {
    "colab": {
      "provenance": []
    },
    "kernelspec": {
      "name": "python3",
      "display_name": "Python 3"
    },
    "language_info": {
      "name": "python"
    }
  },
  "cells": [
    {
      "cell_type": "markdown",
      "source": [
        "# Challenge! Bring-Your-Own-Pipeline\n",
        "\n",
        "This is a deliberately open-ended exercise! You've seen so far that a pipeline does the following:\n",
        "\n",
        "1. Loads up the appropriate tokenizer, base model architecture + model head (with the appropriate configuration), and weights\n",
        "2. When called, passes inputs through the tokenizer, then through the model, and finally postprocesses them\n",
        "\n",
        "Your task is to create something like the `pipeline` method, which means that a user should be able to provide a task identifier (e.g. \"ner\") and an optional model ID, and they should also then be able to use the pipeline for inference.\n",
        "\n",
        "Take some time with your group to discuss how **you** might implement an abstraction for doing this. Hugging Face Transformers uses a `Pipeline` class, but you can do it however you like! Even pseudo-code is fine 😊\n",
        "\n",
        "As a way to guide yourself, choose two or three different tasks (e.g. Masked LM, NER, and Sequence Classification).\n",
        "\n",
        "You don't **need** to actually implement the postprocessing, but if you would like to you can look at examples here: https://huggingface.co/docs/transformers/main/model_doc/distilbert\n",
        "\n",
        "When you're done, you can share your implementation in Sphere!"
      ],
      "metadata": {
        "id": "zNkOxwnas9hx"
      }
    },
    {
      "cell_type": "code",
      "source": [
        "# Implementation (or pseudocode) here!"
      ],
      "metadata": {
        "id": "VQH6_9zds9DV"
      },
      "execution_count": null,
      "outputs": []
    },
    {
      "cell_type": "markdown",
      "source": [
        "Fun fact! Transformers actually allows you to create NEW pipelines. Look here for extra fun reading: https://huggingface.co/docs/transformers/v4.22.1/en/add_new_pipeline"
      ],
      "metadata": {
        "id": "ufJIIgHVMlFS"
      }
    }
  ]
}